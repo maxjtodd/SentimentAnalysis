{
  "cells": [
    {
      "cell_type": "code",
      "metadata": {
        "jukit_cell_id": "tECa0hJTnV"
      },
      "source": [
        "# Max Todd\n",
        "# Applied Machine Learning\n",
        "\n",
        "import pandas as pd\n",
        "from sklearn.metrics import accuracy_score\n",
        "from sklearn.feature_extraction.text import TfidfVectorizer\n",
        "from sklearn.naive_bayes import MultinomialNB\n",
        "from sklearn.pipeline import make_pipeline"
      ],
      "outputs": [],
      "execution_count": null
    },
    {
      "cell_type": "code",
      "metadata": {
        "jukit_cell_id": "8wYOMPCEGf"
      },
      "source": [
        "# Load the processed dataset (get from running preprocessing.py)\n",
        "traindf = pd.read_csv('./data/preprocessed/train.csv',\n",
        "                      encoding='unicode_escape')\n",
        "testDF = pd.read_csv('./data/preprocessed/test.csv',\n",
        "                     encoding='unicode_escape')"
      ],
      "outputs": [],
      "execution_count": null
    },
    {
      "cell_type": "code",
      "metadata": {
        "jukit_cell_id": "ZmqSIREtN8"
      },
      "source": [
        "# remove nan\n",
        "traindf.dropna(inplace=True)\n",
        "testDF.dropna(inplace=True)"
      ],
      "outputs": [],
      "execution_count": null
    },
    {
      "cell_type": "code",
      "metadata": {
        "jukit_cell_id": "J2LVgTkcTk"
      },
      "source": [
        "# Make and train Naive Bayes model using the normalized text without stop words\n",
        "model = make_pipeline(TfidfVectorizer(), MultinomialNB())\n",
        "model.fit(traindf['normalizeNoStop'], traindf['sentiment'])\n",
        "\n",
        "# Predict\n",
        "predicted = model.predict(testDF['normalizeNoStop'])"
      ],
      "outputs": [],
      "execution_count": null
    },
    {
      "cell_type": "code",
      "metadata": {
        "jukit_cell_id": "8Fjyc2TC6S"
      },
      "source": [
        "# Get the accuracy using the normalized text without stop words\n",
        "accuray = accuracy_score(predicted, testDF['sentiment'])\n",
        "print(f'{accuray}')"
      ],
      "outputs": [
        {
          "output_type": "stream",
          "name": "stdout",
          "text": "0.6293984108967083\n"
        }
      ],
      "execution_count": 1
    },
    {
      "cell_type": "code",
      "metadata": {
        "jukit_cell_id": "a5OQ7lKu9p"
      },
      "source": [
        "# Make and train Naive Bayes model using the tokenized text\n",
        "model = make_pipeline(TfidfVectorizer(), MultinomialNB())\n",
        "model.fit(traindf['tokenized'], traindf['sentiment'])\n",
        "\n",
        "# Predict\n",
        "predicted = model.predict(testDF['tokenized'])"
      ],
      "outputs": [],
      "execution_count": null
    },
    {
      "cell_type": "code",
      "metadata": {
        "jukit_cell_id": "DXq8qypW7x"
      },
      "source": [
        "# Get the accuracy using the tokenized text\n",
        "accuray = accuracy_score(predicted, testDF['sentiment'])\n",
        "print(f'{accuray}')"
      ],
      "outputs": [
        {
          "output_type": "stream",
          "name": "stdout",
          "text": "0.6285471055618616\n"
        }
      ],
      "execution_count": 2
    }
  ],
  "metadata": {
    "anaconda-cloud": {},
    "kernelspec": {
      "display_name": "python",
      "language": "python",
      "name": "python3"
    }
  },
  "nbformat": 4,
  "nbformat_minor": 4
}